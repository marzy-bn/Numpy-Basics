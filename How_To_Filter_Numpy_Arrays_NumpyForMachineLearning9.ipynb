{
  "nbformat": 4,
  "nbformat_minor": 0,
  "metadata": {
    "colab": {
      "provenance": []
    },
    "kernelspec": {
      "name": "python3",
      "display_name": "Python 3"
    },
    "language_info": {
      "name": "python"
    }
  },
  "cells": [
    {
      "cell_type": "code",
      "execution_count": null,
      "metadata": {
        "id": "_LEUVXCEaNWH"
      },
      "outputs": [],
      "source": [
        "#https://www.youtube.com/watch?v=gBd5cg5ELN0&list=PLCC34OHNcOtpalASMlX2HHdsLNipyyhbK&index=9"
      ]
    },
    {
      "cell_type": "code",
      "source": [
        "import numpy as np"
      ],
      "metadata": {
        "id": "hFddcz2Ca6q5"
      },
      "execution_count": 1,
      "outputs": []
    },
    {
      "cell_type": "code",
      "source": [
        "#filtering numpy arrays with boolean index lists\n",
        "np1 = np.array([1,2,3,4,5,6,7,8,9,10])\n",
        "x = [True,True,False,False,False,False,False,False,False,False]\n",
        "print(np1)\n",
        "print(np1[x])"
      ],
      "metadata": {
        "colab": {
          "base_uri": "https://localhost:8080/"
        },
        "id": "s6III4DYaXSq",
        "outputId": "2eb569fb-7491-4c02-a15d-3d899f044e11"
      },
      "execution_count": 3,
      "outputs": [
        {
          "output_type": "stream",
          "name": "stdout",
          "text": [
            "[ 1  2  3  4  5  6  7  8  9 10]\n",
            "[1 2]\n"
          ]
        }
      ]
    },
    {
      "cell_type": "code",
      "source": [
        "filtered = []\n",
        "for thing in np1:\n",
        "    if thing % 2 == 0:\n",
        "        filtered.append(True)\n",
        "    else:\n",
        "        filtered.append(False)\n",
        "\n",
        "print(np1)\n",
        "print(filtered)\n",
        "print(np1[filtered])"
      ],
      "metadata": {
        "colab": {
          "base_uri": "https://localhost:8080/"
        },
        "id": "GVaR6bJ3bV7o",
        "outputId": "3cf5b5e2-face-46fd-e4f2-ed5bbd55892b"
      },
      "execution_count": 4,
      "outputs": [
        {
          "output_type": "stream",
          "name": "stdout",
          "text": [
            "[ 1  2  3  4  5  6  7  8  9 10]\n",
            "[False, True, False, True, False, True, False, True, False, True]\n",
            "[ 2  4  6  8 10]\n"
          ]
        }
      ]
    },
    {
      "cell_type": "code",
      "source": [
        "filtered = np1 % 2 == 0\n",
        "print(np1)\n",
        "print(filtered)\n",
        "print(np1[filtered])"
      ],
      "metadata": {
        "colab": {
          "base_uri": "https://localhost:8080/"
        },
        "id": "LEHVHLNC2Yg3",
        "outputId": "f79a81b1-4540-4ee8-fe54-a6fa192ea0cd"
      },
      "execution_count": 5,
      "outputs": [
        {
          "output_type": "stream",
          "name": "stdout",
          "text": [
            "[ 1  2  3  4  5  6  7  8  9 10]\n",
            "[False  True False  True False  True False  True False  True]\n",
            "[ 2  4  6  8 10]\n"
          ]
        }
      ]
    },
    {
      "cell_type": "code",
      "source": [
        "filtered = np1 > 5\n",
        "print(np1)\n",
        "print(filtered)\n",
        "print(np1[filtered])"
      ],
      "metadata": {
        "colab": {
          "base_uri": "https://localhost:8080/"
        },
        "id": "-mrpZpU42yWM",
        "outputId": "0f01b23f-7dcf-4435-dcc3-7f5c8870dded"
      },
      "execution_count": 7,
      "outputs": [
        {
          "output_type": "stream",
          "name": "stdout",
          "text": [
            "[ 1  2  3  4  5  6  7  8  9 10]\n",
            "[False False False False False  True  True  True  True  True]\n",
            "[ 6  7  8  9 10]\n"
          ]
        }
      ]
    }
  ]
}