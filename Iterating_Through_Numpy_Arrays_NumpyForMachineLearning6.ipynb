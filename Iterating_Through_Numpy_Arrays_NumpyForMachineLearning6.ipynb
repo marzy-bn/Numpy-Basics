{
  "nbformat": 4,
  "nbformat_minor": 0,
  "metadata": {
    "colab": {
      "provenance": []
    },
    "kernelspec": {
      "name": "python3",
      "display_name": "Python 3"
    },
    "language_info": {
      "name": "python"
    }
  },
  "cells": [
    {
      "cell_type": "code",
      "source": [
        "#https://www.youtube.com/watch?v=oIyfZTYQbtk&list=PLCC34OHNcOtpalASMlX2HHdsLNipyyhbK&index=6"
      ],
      "metadata": {
        "id": "XqYEmRdRRBL6"
      },
      "execution_count": null,
      "outputs": []
    },
    {
      "cell_type": "code",
      "execution_count": 1,
      "metadata": {
        "id": "I0rPeUZXNaX5"
      },
      "outputs": [],
      "source": [
        "import numpy as np"
      ]
    },
    {
      "cell_type": "code",
      "source": [
        "#1D\n",
        "np1 = np.array([1,2,3,4,5,6,7,8,9,10])\n",
        "for x in np1:\n",
        "    print(x)"
      ],
      "metadata": {
        "colab": {
          "base_uri": "https://localhost:8080/"
        },
        "id": "q4sevBzMPCQ0",
        "outputId": "17f92376-0b74-473b-c2e6-9867d9435bf8"
      },
      "execution_count": 2,
      "outputs": [
        {
          "output_type": "stream",
          "name": "stdout",
          "text": [
            "1\n",
            "2\n",
            "3\n",
            "4\n",
            "5\n",
            "6\n",
            "7\n",
            "8\n",
            "9\n",
            "10\n"
          ]
        }
      ]
    },
    {
      "cell_type": "code",
      "source": [
        "#2D\n",
        "np2 = np.array([[1,2,3,4,5],[6,7,8,9,10]])\n",
        "for x in np2:\n",
        "    #print each row\n",
        "    print(x)"
      ],
      "metadata": {
        "colab": {
          "base_uri": "https://localhost:8080/"
        },
        "id": "5dUIBrLuPWE5",
        "outputId": "ffba1757-58a3-4a24-ddb0-588ae2d4980d"
      },
      "execution_count": 3,
      "outputs": [
        {
          "output_type": "stream",
          "name": "stdout",
          "text": [
            "[1 2 3 4 5]\n",
            "[ 6  7  8  9 10]\n"
          ]
        }
      ]
    },
    {
      "cell_type": "code",
      "source": [
        "for x in np2:\n",
        "    for y in x:\n",
        "        print(y)"
      ],
      "metadata": {
        "colab": {
          "base_uri": "https://localhost:8080/"
        },
        "id": "03t618XjPtRN",
        "outputId": "8cd74e6a-74f6-413d-f196-ec5f5fa028eb"
      },
      "execution_count": 4,
      "outputs": [
        {
          "output_type": "stream",
          "name": "stdout",
          "text": [
            "1\n",
            "2\n",
            "3\n",
            "4\n",
            "5\n",
            "6\n",
            "7\n",
            "8\n",
            "9\n",
            "10\n"
          ]
        }
      ]
    },
    {
      "cell_type": "code",
      "source": [
        "#3D\n",
        "np3 = np.array([[[1,2,3],[4,5,6]],[[7,8,9],[10,11,12]]])\n",
        "for x in np3:\n",
        "    print(x)"
      ],
      "metadata": {
        "colab": {
          "base_uri": "https://localhost:8080/"
        },
        "id": "RRa65bvUP2et",
        "outputId": "4c858c2c-e96f-4914-84c6-a053be423a2b"
      },
      "execution_count": 5,
      "outputs": [
        {
          "output_type": "stream",
          "name": "stdout",
          "text": [
            "[[1 2 3]\n",
            " [4 5 6]]\n",
            "[[ 7  8  9]\n",
            " [10 11 12]]\n"
          ]
        }
      ]
    },
    {
      "cell_type": "code",
      "source": [
        "for x in np3:\n",
        "    for y in x:\n",
        "        for z in y:\n",
        "            print(z)"
      ],
      "metadata": {
        "colab": {
          "base_uri": "https://localhost:8080/"
        },
        "id": "RwNxWBx0QbeZ",
        "outputId": "3d838430-c2b0-4278-ada9-85e6ddad8d82"
      },
      "execution_count": 7,
      "outputs": [
        {
          "output_type": "stream",
          "name": "stdout",
          "text": [
            "1\n",
            "2\n",
            "3\n",
            "4\n",
            "5\n",
            "6\n",
            "7\n",
            "8\n",
            "9\n",
            "10\n",
            "11\n",
            "12\n"
          ]
        }
      ]
    },
    {
      "cell_type": "code",
      "source": [
        "#easier way : np.nditer()\n",
        "for x in np.nditer(np3):\n",
        "    print(x)"
      ],
      "metadata": {
        "colab": {
          "base_uri": "https://localhost:8080/"
        },
        "id": "2tKPvNgrQoJt",
        "outputId": "46528eb8-87b7-470a-e278-029f78e71518"
      },
      "execution_count": 8,
      "outputs": [
        {
          "output_type": "stream",
          "name": "stdout",
          "text": [
            "1\n",
            "2\n",
            "3\n",
            "4\n",
            "5\n",
            "6\n",
            "7\n",
            "8\n",
            "9\n",
            "10\n",
            "11\n",
            "12\n"
          ]
        }
      ]
    },
    {
      "cell_type": "code",
      "source": [],
      "metadata": {
        "id": "OnM2pyDGQzoo"
      },
      "execution_count": null,
      "outputs": []
    }
  ]
}