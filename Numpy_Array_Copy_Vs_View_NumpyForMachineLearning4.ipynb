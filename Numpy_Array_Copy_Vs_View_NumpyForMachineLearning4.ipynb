{
  "nbformat": 4,
  "nbformat_minor": 0,
  "metadata": {
    "colab": {
      "provenance": []
    },
    "kernelspec": {
      "name": "python3",
      "display_name": "Python 3"
    },
    "language_info": {
      "name": "python"
    }
  },
  "cells": [
    {
      "cell_type": "code",
      "source": [
        "#https://www.youtube.com/watch?v=yAjzj2eShXU&list=PLCC34OHNcOtpalASMlX2HHdsLNipyyhbK&index=4"
      ],
      "metadata": {
        "id": "ciKncfAwKKCf"
      },
      "execution_count": null,
      "outputs": []
    },
    {
      "cell_type": "code",
      "execution_count": 1,
      "metadata": {
        "id": "Oav389x_FROP"
      },
      "outputs": [],
      "source": [
        "import numpy as np"
      ]
    },
    {
      "cell_type": "code",
      "source": [
        "np1 = np.array([0,1,2,3,4,5])"
      ],
      "metadata": {
        "id": "f1hVyV8zIFiR"
      },
      "execution_count": 17,
      "outputs": []
    },
    {
      "cell_type": "code",
      "source": [
        "np2 = np1.view()"
      ],
      "metadata": {
        "id": "OyeMOglPIcBo"
      },
      "execution_count": 18,
      "outputs": []
    },
    {
      "cell_type": "code",
      "source": [
        "print(f'Original NP1 {np1}')\n",
        "print(f'Original NP2 {np2}')"
      ],
      "metadata": {
        "colab": {
          "base_uri": "https://localhost:8080/"
        },
        "id": "AwjQB0rfIhC0",
        "outputId": "d7a3ed35-0897-420c-841c-9c8078d099c7"
      },
      "execution_count": 19,
      "outputs": [
        {
          "output_type": "stream",
          "name": "stdout",
          "text": [
            "Original NP1 [0 1 2 3 4 5]\n",
            "Original NP2 [0 1 2 3 4 5]\n"
          ]
        }
      ]
    },
    {
      "cell_type": "code",
      "source": [
        "np2[0] = 41"
      ],
      "metadata": {
        "id": "tDZ36bEzIvJ3"
      },
      "execution_count": 20,
      "outputs": []
    },
    {
      "cell_type": "code",
      "source": [
        "print(f'changed NP1 {np1}')\n",
        "print(f'Original NP2 {np2}')"
      ],
      "metadata": {
        "colab": {
          "base_uri": "https://localhost:8080/"
        },
        "id": "F7CeqvbVIzZb",
        "outputId": "8c3fd2f3-dc82-4133-c59f-c307d250bcb9"
      },
      "execution_count": 21,
      "outputs": [
        {
          "output_type": "stream",
          "name": "stdout",
          "text": [
            "changed NP1 [41  1  2  3  4  5]\n",
            "Original NP2 [41  1  2  3  4  5]\n"
          ]
        }
      ]
    },
    {
      "cell_type": "code",
      "source": [
        "#create a copy\n",
        "np2 = np1.copy()\n",
        "print(f'Original NP1 {np1}')\n",
        "print(f'Original NP2 {np2}')"
      ],
      "metadata": {
        "colab": {
          "base_uri": "https://localhost:8080/"
        },
        "id": "3LKEDrF0I9d_",
        "outputId": "974a9a20-92d4-433c-becc-4ee1ff0663f0"
      },
      "execution_count": 14,
      "outputs": [
        {
          "output_type": "stream",
          "name": "stdout",
          "text": [
            "Original NP1 [0 1 2 3 4 5]\n",
            "Original NP2 [0 1 2 3 4 5]\n"
          ]
        }
      ]
    },
    {
      "cell_type": "code",
      "source": [
        "np2[0] = 41"
      ],
      "metadata": {
        "id": "u_zSa_h3JOlo"
      },
      "execution_count": 15,
      "outputs": []
    },
    {
      "cell_type": "code",
      "source": [
        "print(f'changed NP1 {np1}')\n",
        "print(f'Original NP2 {np2}')"
      ],
      "metadata": {
        "colab": {
          "base_uri": "https://localhost:8080/"
        },
        "id": "F1SW3W-lJW9s",
        "outputId": "276538ad-3ae4-4ae4-990c-089c8668b9d1"
      },
      "execution_count": 16,
      "outputs": [
        {
          "output_type": "stream",
          "name": "stdout",
          "text": [
            "changed NP1 [0 1 2 3 4 5]\n",
            "Original NP2 [41  1  2  3  4  5]\n"
          ]
        }
      ]
    },
    {
      "cell_type": "code",
      "source": [
        "#in view they are connected in both ways\n",
        "#meaning that if you change one it changed the other one\n",
        "#while copy is completely seperate from the original one"
      ],
      "metadata": {
        "id": "GXLxhu3cJcwF"
      },
      "execution_count": null,
      "outputs": []
    }
  ]
}