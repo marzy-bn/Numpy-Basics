{
  "nbformat": 4,
  "nbformat_minor": 0,
  "metadata": {
    "colab": {
      "provenance": []
    },
    "kernelspec": {
      "name": "python3",
      "display_name": "Python 3"
    },
    "language_info": {
      "name": "python"
    }
  },
  "cells": [
    {
      "cell_type": "code",
      "source": [
        "#https://www.youtube.com/watch?v=4LIAHVXnpbY&list=PLCC34OHNcOtpalASMlX2HHdsLNipyyhbK&index=3"
      ],
      "metadata": {
        "id": "X5sO4NV8EsGt"
      },
      "execution_count": null,
      "outputs": []
    },
    {
      "cell_type": "code",
      "execution_count": 1,
      "metadata": {
        "id": "dTN9MlriB7qW"
      },
      "outputs": [],
      "source": [
        "import numpy as np"
      ]
    },
    {
      "cell_type": "code",
      "source": [
        "np1 = np.array([-3,-2,-1,0,1,2,3,4,5,6,7,8,9])"
      ],
      "metadata": {
        "id": "m1tAFmczCKkx"
      },
      "execution_count": 6,
      "outputs": []
    },
    {
      "cell_type": "code",
      "source": [
        "print(np1)"
      ],
      "metadata": {
        "colab": {
          "base_uri": "https://localhost:8080/"
        },
        "id": "Dr3lPhGbCS8U",
        "outputId": "929c297a-4b08-487d-9d8d-8d00d4c18462"
      },
      "execution_count": 3,
      "outputs": [
        {
          "output_type": "stream",
          "name": "stdout",
          "text": [
            "[0 1 2 3 4 5 6 7 8 9]\n"
          ]
        }
      ]
    },
    {
      "cell_type": "code",
      "source": [
        "#square route of each element\n",
        "print(np.sqrt(np1))"
      ],
      "metadata": {
        "colab": {
          "base_uri": "https://localhost:8080/"
        },
        "id": "UrZnAf7-CWEO",
        "outputId": "330ff4a0-3fe5-468e-ba84-f68c7d0226af"
      },
      "execution_count": 4,
      "outputs": [
        {
          "output_type": "stream",
          "name": "stdout",
          "text": [
            "[0.         1.         1.41421356 1.73205081 2.         2.23606798\n",
            " 2.44948974 2.64575131 2.82842712 3.        ]\n"
          ]
        }
      ]
    },
    {
      "cell_type": "code",
      "source": [
        "#absolute value\n",
        "print(np.absolute(np1))"
      ],
      "metadata": {
        "colab": {
          "base_uri": "https://localhost:8080/"
        },
        "id": "bO5Kq2K3CiQb",
        "outputId": "8cda0a4c-54dd-4991-b1a3-9e7e626ccceb"
      },
      "execution_count": 7,
      "outputs": [
        {
          "output_type": "stream",
          "name": "stdout",
          "text": [
            "[3 2 1 0 1 2 3 4 5 6 7 8 9]\n"
          ]
        }
      ]
    },
    {
      "cell_type": "code",
      "source": [
        "#exponents\n",
        "print(np.exp(np1))"
      ],
      "metadata": {
        "colab": {
          "base_uri": "https://localhost:8080/"
        },
        "id": "TeMA7WJMC1qf",
        "outputId": "d51bce4a-1996-48f8-8518-4535e5efa491"
      },
      "execution_count": 8,
      "outputs": [
        {
          "output_type": "stream",
          "name": "stdout",
          "text": [
            "[4.97870684e-02 1.35335283e-01 3.67879441e-01 1.00000000e+00\n",
            " 2.71828183e+00 7.38905610e+00 2.00855369e+01 5.45981500e+01\n",
            " 1.48413159e+02 4.03428793e+02 1.09663316e+03 2.98095799e+03\n",
            " 8.10308393e+03]\n"
          ]
        }
      ]
    },
    {
      "cell_type": "code",
      "source": [
        "#min/max\n",
        "print(np.max(np1))\n",
        "print(np.min(np1))"
      ],
      "metadata": {
        "colab": {
          "base_uri": "https://localhost:8080/"
        },
        "id": "JtEYkAetC883",
        "outputId": "b4ed8cdb-2a21-4ac6-c602-031aa66cba20"
      },
      "execution_count": 10,
      "outputs": [
        {
          "output_type": "stream",
          "name": "stdout",
          "text": [
            "9\n",
            "-3\n"
          ]
        }
      ]
    },
    {
      "cell_type": "code",
      "source": [
        "#sign positive or negative\n",
        "print(np.sign(np1))"
      ],
      "metadata": {
        "colab": {
          "base_uri": "https://localhost:8080/"
        },
        "id": "OL3Uu9jcDGs4",
        "outputId": "6431f839-071f-48e3-904e-f30a0c798fcd"
      },
      "execution_count": 11,
      "outputs": [
        {
          "output_type": "stream",
          "name": "stdout",
          "text": [
            "[-1 -1 -1  0  1  1  1  1  1  1  1  1  1]\n"
          ]
        }
      ]
    },
    {
      "cell_type": "code",
      "source": [
        "#trig sin cos log\n",
        "print(np.sin(np1))\n",
        "#print(np.log(np1)) #throws errors for some vals"
      ],
      "metadata": {
        "colab": {
          "base_uri": "https://localhost:8080/"
        },
        "id": "zVyTUSAYDQ4b",
        "outputId": "1b21d509-b88e-4bf2-f7c6-00f8f3f7662e"
      },
      "execution_count": 14,
      "outputs": [
        {
          "output_type": "stream",
          "name": "stdout",
          "text": [
            "[-0.14112001 -0.90929743 -0.84147098  0.          0.84147098  0.90929743\n",
            "  0.14112001 -0.7568025  -0.95892427 -0.2794155   0.6569866   0.98935825\n",
            "  0.41211849]\n"
          ]
        }
      ]
    },
    {
      "cell_type": "code",
      "source": [
        "#search for numpy universal functions\n",
        "#https://numpy.org/doc/stable/reference/ufuncs.html"
      ],
      "metadata": {
        "id": "y8EOXu-kDsn1"
      },
      "execution_count": null,
      "outputs": []
    }
  ]
}