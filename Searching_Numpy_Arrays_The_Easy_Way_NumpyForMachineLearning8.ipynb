{
  "nbformat": 4,
  "nbformat_minor": 0,
  "metadata": {
    "colab": {
      "provenance": []
    },
    "kernelspec": {
      "name": "python3",
      "display_name": "Python 3"
    },
    "language_info": {
      "name": "python"
    }
  },
  "cells": [
    {
      "cell_type": "code",
      "execution_count": 1,
      "metadata": {
        "id": "0vx4qGQqXdsY"
      },
      "outputs": [],
      "source": [
        "import numpy as np"
      ]
    },
    {
      "cell_type": "code",
      "source": [
        "#search\n",
        "np1 = np.array([1,2,3,4,5,6,7,8,9,10,3])\n",
        "\n",
        "x = np.where(np1 == 3)\n",
        "print(np1)\n",
        "print(x)\n",
        "print(x[0])\n",
        "print(np1[x[0]])"
      ],
      "metadata": {
        "colab": {
          "base_uri": "https://localhost:8080/"
        },
        "id": "jY9LhArLXtZE",
        "outputId": "b18c4626-2978-446f-f8d1-edb0cd1280d2"
      },
      "execution_count": 6,
      "outputs": [
        {
          "output_type": "stream",
          "name": "stdout",
          "text": [
            "[ 1  2  3  4  5  6  7  8  9 10  3]\n",
            "(array([ 2, 10]),)\n",
            "[ 2 10]\n",
            "[3 3]\n"
          ]
        }
      ]
    },
    {
      "cell_type": "code",
      "source": [
        "#return even items\n",
        "y = np.where(np1 % 2 == 0)\n",
        "print(np1)\n",
        "print(y[0])"
      ],
      "metadata": {
        "colab": {
          "base_uri": "https://localhost:8080/"
        },
        "id": "ZYQgd4xOYGld",
        "outputId": "1daa0fb8-651a-4515-d6a5-85a5f16a79a4"
      },
      "execution_count": 9,
      "outputs": [
        {
          "output_type": "stream",
          "name": "stdout",
          "text": [
            "[ 1  2  3  4  5  6  7  8  9 10  3]\n",
            "[1 3 5 7 9]\n"
          ]
        }
      ]
    },
    {
      "cell_type": "code",
      "source": [
        "#return odd items\n",
        "z = np.where(np1 % 2 == 1)\n",
        "print(np1)\n",
        "print(z[0])"
      ],
      "metadata": {
        "colab": {
          "base_uri": "https://localhost:8080/"
        },
        "id": "Z-HmB-KpZtp4",
        "outputId": "6a148470-905b-41f7-bd93-b1fada1e2b50"
      },
      "execution_count": 11,
      "outputs": [
        {
          "output_type": "stream",
          "name": "stdout",
          "text": [
            "[ 1  2  3  4  5  6  7  8  9 10  3]\n",
            "[ 0  2  4  6  8 10]\n"
          ]
        }
      ]
    },
    {
      "cell_type": "code",
      "source": [],
      "metadata": {
        "id": "TTHfe5U5Z33K"
      },
      "execution_count": null,
      "outputs": []
    }
  ]
}