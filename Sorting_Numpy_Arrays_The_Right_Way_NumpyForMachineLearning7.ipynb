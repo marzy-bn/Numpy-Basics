{
  "nbformat": 4,
  "nbformat_minor": 0,
  "metadata": {
    "colab": {
      "provenance": []
    },
    "kernelspec": {
      "name": "python3",
      "display_name": "Python 3"
    },
    "language_info": {
      "name": "python"
    }
  },
  "cells": [
    {
      "cell_type": "code",
      "execution_count": 1,
      "metadata": {
        "id": "3ZKZY0UkRYmL"
      },
      "outputs": [],
      "source": [
        "import numpy as np"
      ]
    },
    {
      "cell_type": "code",
      "source": [
        "np1 = np.array([6,7,4,9,0,2,1])\n",
        "print(np1)\n",
        "print(np.sort(np1))"
      ],
      "metadata": {
        "colab": {
          "base_uri": "https://localhost:8080/"
        },
        "id": "0y7EZHqoUXFL",
        "outputId": "ecac26d2-2bdc-497c-cd79-8bb29ceb3259"
      },
      "execution_count": 4,
      "outputs": [
        {
          "output_type": "stream",
          "name": "stdout",
          "text": [
            "[6 7 4 9 0 2 1]\n",
            "[0 1 2 4 6 7 9]\n"
          ]
        }
      ]
    },
    {
      "cell_type": "code",
      "source": [
        "#alphabetical sorting\n",
        "np2 = np.array([\"John\",\"Tina\",'Aaron',\"Zed\"])\n",
        "print(np2)\n",
        "print(np.sort(np2))"
      ],
      "metadata": {
        "colab": {
          "base_uri": "https://localhost:8080/"
        },
        "id": "vIgRkooKUfBb",
        "outputId": "767c7b4d-999f-48d4-9d93-6825fccdef86"
      },
      "execution_count": 6,
      "outputs": [
        {
          "output_type": "stream",
          "name": "stdout",
          "text": [
            "['John' 'Tina' 'Aaron' 'Zed']\n",
            "['Aaron' 'John' 'Tina' 'Zed']\n"
          ]
        }
      ]
    },
    {
      "cell_type": "code",
      "source": [
        "#Booleans T/F\n",
        "np3 = np.array([True, False, False, True])\n",
        "print(np3)\n",
        "print(np.sort(np3))"
      ],
      "metadata": {
        "colab": {
          "base_uri": "https://localhost:8080/"
        },
        "id": "0I5nwV8SU8WT",
        "outputId": "372e7cc6-7c5c-4ce4-bef7-fcc0279382b5"
      },
      "execution_count": 7,
      "outputs": [
        {
          "output_type": "stream",
          "name": "stdout",
          "text": [
            "[ True False False  True]\n",
            "[False False  True  True]\n"
          ]
        }
      ]
    },
    {
      "cell_type": "code",
      "source": [
        "#Return a copy not change the original\n",
        "print(np1)\n",
        "print(np.sort(np1))\n",
        "print(np1)"
      ],
      "metadata": {
        "colab": {
          "base_uri": "https://localhost:8080/"
        },
        "id": "ONx3Gup-VJvb",
        "outputId": "163d0e40-026c-4b74-fc50-641739a0a373"
      },
      "execution_count": 8,
      "outputs": [
        {
          "output_type": "stream",
          "name": "stdout",
          "text": [
            "[6 7 4 9 0 2 1]\n",
            "[0 1 2 4 6 7 9]\n",
            "[6 7 4 9 0 2 1]\n"
          ]
        }
      ]
    },
    {
      "cell_type": "code",
      "source": [
        "#2D\n",
        "np4 = np.array([[6,7,1,9],[8,3,5,0]])\n",
        "print(np4)\n",
        "print(np.sort(np4))"
      ],
      "metadata": {
        "colab": {
          "base_uri": "https://localhost:8080/"
        },
        "id": "xEoU-4VpVoCE",
        "outputId": "364b2b58-e8dd-4e4e-d066-f456739e8d20"
      },
      "execution_count": 10,
      "outputs": [
        {
          "output_type": "stream",
          "name": "stdout",
          "text": [
            "[[6 7 1 9]\n",
            " [8 3 5 0]]\n",
            "[[1 6 7 9]\n",
            " [0 3 5 8]]\n"
          ]
        }
      ]
    },
    {
      "cell_type": "code",
      "source": [],
      "metadata": {
        "id": "bqc_IbJjV941"
      },
      "execution_count": null,
      "outputs": []
    }
  ]
}