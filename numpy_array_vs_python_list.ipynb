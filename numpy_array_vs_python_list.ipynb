{
  "nbformat": 4,
  "nbformat_minor": 0,
  "metadata": {
    "colab": {
      "provenance": []
    },
    "kernelspec": {
      "name": "python3",
      "display_name": "Python 3"
    },
    "language_info": {
      "name": "python"
    }
  },
  "cells": [
    {
      "cell_type": "code",
      "execution_count": 1,
      "metadata": {
        "id": "MPdKHXwfATUo"
      },
      "outputs": [],
      "source": [
        "#https://www.youtube.com/watch?v=rN0TREj8G7U&list=PLeo1K3hjS3uv5U-Lmlnucd7gqF-3ehIh0&index=39"
      ]
    },
    {
      "cell_type": "code",
      "source": [
        "!pip install numpy"
      ],
      "metadata": {
        "colab": {
          "base_uri": "https://localhost:8080/"
        },
        "id": "8uWrQGQOAeaZ",
        "outputId": "9fdd6896-21c5-4a1a-d263-e9254e911414"
      },
      "execution_count": 2,
      "outputs": [
        {
          "output_type": "stream",
          "name": "stdout",
          "text": [
            "Requirement already satisfied: numpy in /usr/local/lib/python3.10/dist-packages (1.25.2)\n"
          ]
        }
      ]
    },
    {
      "cell_type": "code",
      "source": [
        "import numpy as np"
      ],
      "metadata": {
        "id": "ZJFKFVL9AhoO"
      },
      "execution_count": 3,
      "outputs": []
    },
    {
      "cell_type": "code",
      "source": [
        "#numpy array uses less memory, it is fast, and convinient compared to python list\n",
        "a = np.array([1,2,3])\n",
        "a"
      ],
      "metadata": {
        "colab": {
          "base_uri": "https://localhost:8080/"
        },
        "id": "CXeHE3VQAqJ4",
        "outputId": "48965976-a4be-49ab-a9de-4f59bb352026"
      },
      "execution_count": 5,
      "outputs": [
        {
          "output_type": "execute_result",
          "data": {
            "text/plain": [
              "array([1, 2, 3])"
            ]
          },
          "metadata": {},
          "execution_count": 5
        }
      ]
    },
    {
      "cell_type": "code",
      "source": [
        "import sys"
      ],
      "metadata": {
        "id": "e7v-oD9FBR6h"
      },
      "execution_count": 7,
      "outputs": []
    },
    {
      "cell_type": "code",
      "source": [
        "#less memory\n",
        "#a list with 1000 elements\n",
        "l = range(1000)\n",
        "print(sys.getsizeof(5)*len(l))\n",
        "array= np.arange(1000)\n",
        "print(array.size*array.itemsize)"
      ],
      "metadata": {
        "colab": {
          "base_uri": "https://localhost:8080/"
        },
        "id": "9durAdJvBGT3",
        "outputId": "6446d274-3936-4fc7-da6e-99379bef7c2a"
      },
      "execution_count": 9,
      "outputs": [
        {
          "output_type": "stream",
          "name": "stdout",
          "text": [
            "28000\n",
            "8000\n"
          ]
        }
      ]
    },
    {
      "cell_type": "code",
      "source": [
        "#fast\n",
        "import time\n",
        "SIZE = 1000000\n",
        "l1 = range(SIZE)\n",
        "l2 = range(SIZE)\n",
        "a1 = np.arange(SIZE)\n",
        "a2 = np.arange(SIZE)\n",
        "\n",
        "#python list\n",
        "start = time.time()\n",
        "result = [(x+y) for x,y in zip(l1,l2)]\n",
        "print(\"python list took:\",(time.time()-start)*1000)\n",
        "#numpy array\n",
        "start=time.time()\n",
        "result = a1 + a2\n",
        "print(\"numpy list took:\",(time.time()-start)*1000)"
      ],
      "metadata": {
        "colab": {
          "base_uri": "https://localhost:8080/"
        },
        "id": "JGY7tIlsCm1F",
        "outputId": "c654f305-de53-47c7-b867-48383ff15830"
      },
      "execution_count": 15,
      "outputs": [
        {
          "output_type": "stream",
          "name": "stdout",
          "text": [
            "python list took: 228.79743576049805\n",
            "numpy list took: 34.37376022338867\n"
          ]
        }
      ]
    },
    {
      "cell_type": "code",
      "source": [
        "#convinient\n",
        "a1 = np.array([1,2,3])\n",
        "a2 = np.array([4,5,6])\n",
        "print(a1+a2)\n",
        "print(a2-a1)\n",
        "print(a1*a2)\n",
        "print(a1/a2)"
      ],
      "metadata": {
        "colab": {
          "base_uri": "https://localhost:8080/"
        },
        "id": "NtlmlQwUEL94",
        "outputId": "91dd5781-ad35-4165-c53b-d055c8796fc8"
      },
      "execution_count": 18,
      "outputs": [
        {
          "output_type": "stream",
          "name": "stdout",
          "text": [
            "[5 7 9]\n",
            "[3 3 3]\n",
            "[ 4 10 18]\n",
            "[0.25 0.4  0.5 ]\n"
          ]
        }
      ]
    }
  ]
}